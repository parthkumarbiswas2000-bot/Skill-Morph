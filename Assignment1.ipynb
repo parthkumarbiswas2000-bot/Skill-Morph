{
  "cells": [
    {
      "cell_type": "markdown",
      "metadata": {
        "id": "view-in-github",
        "colab_type": "text"
      },
      "source": [
        "<a href=\"https://colab.research.google.com/github/parthkumarbiswas2000-bot/Skill-Morph/blob/Skill_Morph/Assignment1.ipynb\" target=\"_parent\"><img src=\"https://colab.research.google.com/assets/colab-badge.svg\" alt=\"Open In Colab\"/></a>"
      ]
    },
    {
      "cell_type": "markdown",
      "metadata": {
        "id": "RhpXELNjjCBi"
      },
      "source": [
        "# Declaring Variable"
      ]
    },
    {
      "cell_type": "code",
      "execution_count": null,
      "metadata": {
        "colab": {
          "base_uri": "https://localhost:8080/"
        },
        "id": "ykJ2VKOsfy2C",
        "outputId": "0b73d1ce-b567-49e5-b580-8a3f89cecc6d"
      },
      "outputs": [
        {
          "name": "stdout",
          "output_type": "stream",
          "text": [
            "Name: Rahul\n",
            "24\n",
            "Fav_Color: Blue\n"
          ]
        }
      ],
      "source": [
        "Name = \"Rahul\"\n",
        "Age = 24\n",
        "Fav_Color = \"Blue\"\n",
        "\n",
        "print(\"Name:\", Name)\n",
        "print( Age)\n",
        "print(\"Fav_Color:\", Fav_Color)\n"
      ]
    },
    {
      "cell_type": "markdown",
      "metadata": {
        "id": "vECyefUJqnUZ"
      },
      "source": [
        "#Data Type Variable"
      ]
    },
    {
      "cell_type": "code",
      "execution_count": null,
      "metadata": {
        "colab": {
          "base_uri": "https://localhost:8080/"
        },
        "id": "dhurL5qQhm4j",
        "outputId": "44b85fe3-b786-4cfa-f3c1-fe8d615ef34e"
      },
      "outputs": [
        {
          "name": "stdout",
          "output_type": "stream",
          "text": [
            "<class 'str'>\n",
            "<class 'int'>\n",
            "<class 'str'>\n",
            "<class 'bool'>\n",
            "<class 'bool'>\n",
            "<class 'NoneType'>\n"
          ]
        }
      ],
      "source": [
        "is_student = True\n",
        "Employed = False\n",
        "Institution = None\n",
        "\n",
        "print(type(Name))\n",
        "print(type(Age))\n",
        "print(type(Fav_Color))\n",
        "print(type(is_student))\n",
        "print(type(Employed))\n",
        "print(type(Institution))\n"
      ]
    },
    {
      "cell_type": "markdown",
      "metadata": {
        "id": "51YA5s_IrX0J"
      },
      "source": [
        "# Rectangle area and perimeter\n"
      ]
    },
    {
      "cell_type": "code",
      "execution_count": null,
      "metadata": {
        "colab": {
          "base_uri": "https://localhost:8080/"
        },
        "id": "fB3S5WGHrirW",
        "outputId": "d3f07518-36f8-42dc-efd7-ae8f735dc539"
      },
      "outputs": [
        {
          "name": "stdout",
          "output_type": "stream",
          "text": [
            "Area: 35\n",
            "Perimeter: 24\n"
          ]
        }
      ],
      "source": [
        "Length = 7\n",
        "Width = 5\n",
        "\n",
        "Area = Length * Width\n",
        "Perimeter = 2 * (Length + Width)\n",
        "\n",
        "print (\"Area:\", Area)\n",
        "print (\"Perimeter:\", Perimeter)"
      ]
    },
    {
      "cell_type": "markdown",
      "metadata": {
        "id": "yparLOu8sXbj"
      },
      "source": [
        "# List Creation\n"
      ]
    },
    {
      "cell_type": "code",
      "execution_count": null,
      "metadata": {
        "colab": {
          "base_uri": "https://localhost:8080/"
        },
        "id": "iQ993hCjsfDO",
        "outputId": "e448d78a-35c4-43b8-d8dc-229ce4994c8b"
      },
      "outputs": [
        {
          "name": "stdout",
          "output_type": "stream",
          "text": [
            "HilsaFish\n",
            "Dal\n",
            "Dal\n",
            "HilsaFish\n",
            "['HilsaFish', 'Biriyani']\n",
            "['Bhat', 'Sabji', 'Dal']\n",
            "['HilsaFish', 'Fish', 'Bhat', 'Sabji', 'Dal']\n"
          ]
        }
      ],
      "source": [
        "BD_Foods = [\"HilsaFish\", \"Biriyani\", \"Bhat\", \"Sabji\", \"Dal\"]\n",
        "print(BD_Foods[0])\n",
        "print(BD_Foods[4])\n",
        "\n",
        "print(BD_Foods[-1])\n",
        "print(BD_Foods[-5])\n",
        "\n",
        "# Slicing\n",
        "print(BD_Foods[0:2])\n",
        "print(BD_Foods[2:5])\n",
        "\n",
        "#List Changing\n",
        "BD_Foods[1] = \"Fish\"\n",
        "print(BD_Foods)"
      ]
    },
    {
      "cell_type": "markdown",
      "metadata": {
        "id": "so8eZ806vk32"
      },
      "source": [
        "# Number List add, remove and sort\n"
      ]
    },
    {
      "cell_type": "code",
      "execution_count": null,
      "metadata": {
        "colab": {
          "base_uri": "https://localhost:8080/"
        },
        "id": "bZuw-TB_vs1p",
        "outputId": "ee83d2e3-5cb1-419b-8060-9b76f4af6eae"
      },
      "outputs": [
        {
          "name": "stdout",
          "output_type": "stream",
          "text": [
            "[2, 3, 4, 5, 6]\n",
            "[2, 3, 4, 5, 6, 1]\n",
            "[2, 3, 9, 4, 5, 6, 1]\n",
            "[2, 3, 4, 5, 6, 1]\n",
            "1\n",
            "[2, 3, 4, 5, 6]\n",
            "[2, 3, 4, 5, 6]\n",
            "[6, 5, 4, 3, 2]\n"
          ]
        }
      ],
      "source": [
        "List_of_Numbers = [2, 3, 4, 5, 6]\n",
        "print(List_of_Numbers)\n",
        "List_of_Numbers.append(1)\n",
        "\n",
        "print(List_of_Numbers)\n",
        "\n",
        "List_of_Numbers.insert(2,9)\n",
        "print(List_of_Numbers)\n",
        "\n",
        "List_of_Numbers.remove(9)\n",
        "print(List_of_Numbers)\n",
        "\n",
        "popped= List_of_Numbers.pop()\n",
        "print(popped)\n",
        "print(List_of_Numbers)\n",
        "\n",
        "List_of_Numbers.sort()\n",
        "print(List_of_Numbers)\n",
        "\n",
        "List_of_Numbers.reverse()\n",
        "print(List_of_Numbers)\n"
      ]
    },
    {
      "cell_type": "markdown",
      "metadata": {
        "id": "2MRb5Yi5dRS6"
      },
      "source": [
        "# Create Dictionary Variable"
      ]
    },
    {
      "cell_type": "code",
      "execution_count": null,
      "metadata": {
        "colab": {
          "base_uri": "https://localhost:8080/"
        },
        "id": "BmCDU7mXdZoR",
        "outputId": "66d846ff-3b47-465d-faad-7966a4267ecc"
      },
      "outputs": [
        {
          "name": "stdout",
          "output_type": "stream",
          "text": [
            "Partho\n",
            "Image Processing\n",
            "25\n"
          ]
        }
      ],
      "source": [
        "Myself = {\"name\": \"Partho\",\n",
        "          \"age\": 24,\n",
        "          \"fav_Color\": \"Blue\",\n",
        "          \"university\": \"EDU\",\n",
        "          \"courses\": [\"Machine Learning\", \"Artificial Intelligence\", \"Image Processing\"] }\n",
        "\n",
        "#Accessing the values using keys\n",
        "print(Myself[\"name\"])\n",
        "print(Myself[\"courses\"][2])\n",
        "\n",
        "#Adding\n",
        "Myself[\"phone\"] = \"01812233654\"\n",
        "Myself[\"age\"] = 25\n",
        "\n",
        "print(Myself['age'])"
      ]
    },
    {
      "cell_type": "markdown",
      "metadata": {
        "id": "q_aN1WTx6OcJ"
      },
      "source": [
        "#  Create Tuple"
      ]
    },
    {
      "cell_type": "code",
      "execution_count": null,
      "metadata": {
        "colab": {
          "base_uri": "https://localhost:8080/"
        },
        "id": "DngyNl_i6Woh",
        "outputId": "6d02ca8e-3f47-4594-a104-8c819402572c"
      },
      "outputs": [
        {
          "name": "stdout",
          "output_type": "stream",
          "text": [
            "The Latitude of Dhaka, Chattogram, Khulna & Rajshahi:  (23.7116, 22.6539, 22.8411, 24.3636)\n",
            "The Longtitude of Dhaka, Chattogram, Khulna & Rajshahi: (90.3934, 91.7832, 89.5403, 88.6008)\n",
            "The Latitude of Dhaka:  23.7116\n",
            "The Longtitude of Dhaka:  90.3934\n",
            "4\n",
            "4\n"
          ]
        }
      ],
      "source": [
        "Latitude_BD_Famous_Places = (23.7116, 22.6539, 22.8411, 24.3636)\n",
        "Longtitude_BD_Famous_Places = (90.3934, 91.7832, 89.5403, 88.6008)\n",
        "\n",
        "print(\"The Latitude of Dhaka, Chattogram, Khulna & Rajshahi: \", Latitude_BD_Famous_Places)\n",
        "print(\"The Longtitude of Dhaka, Chattogram, Khulna & Rajshahi:\",Longtitude_BD_Famous_Places)\n",
        "\n",
        "print(\"The Latitude of Dhaka: \", Latitude_BD_Famous_Places[0])\n",
        "print(\"The Longtitude of Dhaka: \", Longtitude_BD_Famous_Places[0])\n",
        "\n",
        "print(len(Latitude_BD_Famous_Places))\n",
        "print(len(Longtitude_BD_Famous_Places))v"
      ]
    },
    {
      "cell_type": "markdown",
      "metadata": {
        "id": "mqD3qK89-l1G"
      },
      "source": [
        "# Sets\n"
      ]
    },
    {
      "cell_type": "code",
      "execution_count": null,
      "metadata": {
        "colab": {
          "base_uri": "https://localhost:8080/"
        },
        "id": "dpntryi3-sfW",
        "outputId": "80f88a53-96f2-4196-d4b0-a458020915de"
      },
      "outputs": [
        {
          "name": "stdout",
          "output_type": "stream",
          "text": [
            "{'Golden', 'Green', 'Blue'}\n",
            "{'Maroon', 'Golden', 'Sky_Blue', 'Blue', 'Red', 'Green'}\n",
            "{'Maroon', 'Golden', 'Sky_Blue', 'Blue', 'Red', 'Green'}\n",
            "{'Blue'}\n",
            "{'Blue'}\n"
          ]
        }
      ],
      "source": [
        "Color_Set1 = {\"Green\", \"Blue\", \"Golden\", \"Blue\"}\n",
        "Color_Set2 = {\"Red\", \"Maroon\", \"Sky_Blue\", \"Blue\"}\n",
        "\n",
        "print(Color_Set1)\n",
        "\n",
        "#Color_Set1.add(\"Yellow\")\n",
        "#Color_Set1.update([\"Peach\"],[\"Lemon Green\"])\n",
        "\n",
        "#print(Color_Set1)\n",
        "\n",
        "#Color_Set1.remove(\"Peach\")\n",
        "#Color_Set1.discard(\"Blue\")\n",
        "#print(Color_Set1)\n",
        "\n",
        "All_Colors = Color_Set1.union(Color_Set2)\n",
        "print(All_Colors)\n",
        "\n",
        "All_Colors = Color_Set1|Color_Set2\n",
        "print(All_Colors)\n",
        "\n",
        "\n",
        "All_Colors = Color_Set1.intersection(Color_Set2)\n",
        "print(All_Colors)\n",
        "\n",
        "All_Colors = Color_Set1 & Color_Set2\n",
        "print(All_Colors)\n",
        "\n"
      ]
    },
    {
      "cell_type": "markdown",
      "metadata": {
        "id": "nkcRJPI5CD-2"
      },
      "source": [
        "# If-else to check number is postive, negative or zero as number\n"
      ]
    },
    {
      "cell_type": "code",
      "execution_count": null,
      "metadata": {
        "colab": {
          "base_uri": "https://localhost:8080/"
        },
        "id": "yYpskoMtCXHj",
        "outputId": "778b33e0-f538-4801-b404-e089464d0a3b"
      },
      "outputs": [
        {
          "name": "stdout",
          "output_type": "stream",
          "text": [
            "Enter the Number: 20\n",
            "The Number is Positive\n"
          ]
        }
      ],
      "source": [
        "Number = float(input(\"Enter the Number: \"))\n",
        "\n",
        "if Number > 0:\n",
        "  print(\"The Number is Positive\")\n",
        "\n",
        "elif Number < 0:\n",
        "  print(\"The Number is Negative\")\n",
        "\n",
        "else:\n",
        "  print(\"The Number is Zero\")\n",
        "\n"
      ]
    },
    {
      "cell_type": "markdown",
      "metadata": {
        "id": "VZKc2k5kGoBA"
      },
      "source": [
        "# Nested if-else"
      ]
    },
    {
      "cell_type": "code",
      "execution_count": null,
      "metadata": {
        "colab": {
          "base_uri": "https://localhost:8080/"
        },
        "id": "PLRfdShZkObG",
        "outputId": "553ad82f-e0ac-4d0b-8728-7ce1f8b2c8c0"
      },
      "outputs": [
        {
          "name": "stdout",
          "output_type": "stream",
          "text": [
            "Enter the Age: 21\n",
            "Are you a student? (yes/no): TRUE\n",
            "Will get a discount as a Student\n",
            "Will not get a discount as a Senior Citizen\n"
          ]
        }
      ],
      "source": [
        "Age = int(input(\"Enter the Age: \"))\n",
        "student_input = (input(\"Are you a student? (True/False): \"))\n",
        "\n",
        "if student_input.lower() == \"true\":\n",
        "  is_student = True\n",
        "else:\n",
        "  is_student = False\n",
        "\n",
        "if Age <= 25:\n",
        "  if is_student:\n",
        "    print(\"Will get a discount as a Student\")\n",
        "  else:\n",
        "    print(\"Will not get a discount as a Student\")\n",
        "\n",
        "if Age >= 60:\n",
        "  print(\"Will get a discount as a Senior Citizen\")\n",
        "else:\n",
        "  print(\"Will not get a discount as a Senior Citizen\")"
      ]
    },
    {
      "cell_type": "code",
      "execution_count": null,
      "metadata": {
        "colab": {
          "base_uri": "https://localhost:8080/"
        },
        "id": "53Fjs06FRlE0",
        "outputId": "04900d10-ff5d-4d0c-9644-bbefdca6de2e"
      },
      "outputs": [
        {
          "name": "stdout",
          "output_type": "stream",
          "text": [
            "Enter the Age: 25\n",
            "Are you a student? (True/False):  true\n",
            "Will get a discount\n"
          ]
        }
      ],
      "source": [
        "#Second\n",
        "Age = int(input(\"Enter the Age: \"))\n",
        "student_input = (input(\"Are you a student? (True/False): \"))\n",
        "\n",
        "is_student = student_input.lower().strip() == \"true\"\n",
        "\n",
        "if (Age <= 25 and is_student) or Age >= 60:\n",
        "  print(\"Will get a discount\")\n",
        "else:\n",
        "  print(\"Will not get a discount\")"
      ]
    },
    {
      "cell_type": "markdown",
      "metadata": {
        "id": "8447zDyyTNn2"
      },
      "source": [
        "# The First Ten Even Numbers\n"
      ]
    },
    {
      "cell_type": "code",
      "execution_count": null,
      "metadata": {
        "colab": {
          "base_uri": "https://localhost:8080/"
        },
        "id": "8D_7WBjJX2uV",
        "outputId": "1c59234a-02a3-4255-918d-c01d02bcd47f"
      },
      "outputs": [
        {
          "name": "stdout",
          "output_type": "stream",
          "text": [
            "The List of the First Ten Even number: \n",
            "2\n",
            "4\n",
            "6\n",
            "8\n",
            "10\n",
            "12\n",
            "14\n",
            "16\n",
            "18\n",
            "20\n"
          ]
        }
      ],
      "source": [
        "#Even_Number = int(input(\"Enter the Number: \"))\n",
        "\n",
        "Even_Number = \"The List of the First Ten Even number: \"\n",
        "print(Even_Number)\n",
        "\n",
        "for even in range(2,22,2):\n",
        "  print(even)\n"
      ]
    },
    {
      "cell_type": "markdown",
      "metadata": {
        "id": "AzzI0AhRA07R"
      },
      "source": [
        "# The Star Pyramid"
      ]
    },
    {
      "cell_type": "code",
      "execution_count": null,
      "metadata": {
        "colab": {
          "base_uri": "https://localhost:8080/"
        },
        "id": "dxluWX5xav92",
        "outputId": "ab8e8348-b7f0-4b9a-ca87-f5a669506295"
      },
      "outputs": [
        {
          "name": "stdout",
          "output_type": "stream",
          "text": [
            "    *\n",
            "   ***\n",
            "  *****\n",
            " *******\n",
            "*********\n"
          ]
        }
      ],
      "source": [
        "for i in range (1,6):\n",
        "  space = \" \" * (5 - i)\n",
        "  print(space + \"*\" *(2*i-1))"
      ]
    },
    {
      "cell_type": "markdown",
      "metadata": {
        "id": "YneAjYGBK5-F"
      },
      "source": [
        "# Celsius To Fahrenheit with Function"
      ]
    },
    {
      "cell_type": "code",
      "execution_count": 4,
      "metadata": {
        "colab": {
          "base_uri": "https://localhost:8080/"
        },
        "id": "ZFHV5egNNn18",
        "outputId": "b8d74295-9759-4f13-9e14-5a918e4de336"
      },
      "outputs": [
        {
          "output_type": "stream",
          "name": "stdout",
          "text": [
            "Enter the Celsius Temperature: 200\n",
            "200.0 Celsius is 392.00 Fahrenheit\n"
          ]
        }
      ],
      "source": [
        "Temperature = float(input(\"Enter the Celsius Temperature: \"))\n",
        "\n",
        "def Celsius_to_Fahrenheit(Celsius):\n",
        "  Fahrenheit = (Celsius *9/5)+32\n",
        "  return Fahrenheit\n",
        "\n",
        "Fahrenheit_result = Celsius_to_Fahrenheit(Temperature)\n",
        "print(f\"{Temperature} Celsius is {Fahrenheit_result:.2f} Fahrenheit\")\n"
      ]
    },
    {
      "cell_type": "markdown",
      "source": [
        "# Default Function Area of the Rectangle"
      ],
      "metadata": {
        "id": "XO7VLKywUE6H"
      }
    },
    {
      "cell_type": "code",
      "execution_count": 30,
      "metadata": {
        "id": "VEdH8GviPO4w",
        "colab": {
          "base_uri": "https://localhost:8080/"
        },
        "outputId": "abae3c3c-4abc-444a-efb7-c5e58c21b5bb"
      },
      "outputs": [
        {
          "output_type": "stream",
          "name": "stdout",
          "text": [
            "Enter the Length of the Rectangle: 5.5\n",
            "Enter the Width of the Rectangle: 2.5\n",
            "Area =  13.75\n"
          ]
        }
      ],
      "source": [
        "def rectangle_area(length, width):\n",
        "  Area = length * width\n",
        "  print(f\"Area = {Area: .2f}\")\n",
        "\n",
        "\n",
        "length = float(input(\"Enter the Length of the Rectangle: \"))\n",
        "width = float(input(\"Enter the Width of the Rectangle: \"))\n",
        "rectangle_area( length, width)"
      ]
    }
  ],
  "metadata": {
    "colab": {
      "toc_visible": true,
      "provenance": [],
      "authorship_tag": "ABX9TyOkhgrh1HjEe6OqSVeRzaCH",
      "include_colab_link": true
    },
    "kernelspec": {
      "display_name": "Python 3",
      "name": "python3"
    },
    "language_info": {
      "name": "python"
    }
  },
  "nbformat": 4,
  "nbformat_minor": 0
}