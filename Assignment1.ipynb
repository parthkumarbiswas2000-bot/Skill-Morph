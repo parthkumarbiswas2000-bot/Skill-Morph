{
  "nbformat": 4,
  "nbformat_minor": 0,
  "metadata": {
    "colab": {
      "provenance": [],
      "toc_visible": true,
      "authorship_tag": "ABX9TyOjfuCkIM5WvAWZzHMBH1GG",
      "include_colab_link": true
    },
    "kernelspec": {
      "name": "python3",
      "display_name": "Python 3"
    },
    "language_info": {
      "name": "python"
    }
  },
  "cells": [
    {
      "cell_type": "markdown",
      "metadata": {
        "id": "view-in-github",
        "colab_type": "text"
      },
      "source": [
        "<a href=\"https://colab.research.google.com/github/parthkumarbiswas2000-bot/Skill-Morph/blob/Skill_Morph/Assignment1.ipynb\" target=\"_parent\"><img src=\"https://colab.research.google.com/assets/colab-badge.svg\" alt=\"Open In Colab\"/></a>"
      ]
    },
    {
      "cell_type": "markdown",
      "source": [
        "# Declaring Variable"
      ],
      "metadata": {
        "id": "RhpXELNjjCBi"
      }
    },
    {
      "cell_type": "code",
      "execution_count": 7,
      "metadata": {
        "colab": {
          "base_uri": "https://localhost:8080/"
        },
        "id": "ykJ2VKOsfy2C",
        "outputId": "0b73d1ce-b567-49e5-b580-8a3f89cecc6d"
      },
      "outputs": [
        {
          "output_type": "stream",
          "name": "stdout",
          "text": [
            "Name: Rahul\n",
            "24\n",
            "Fav_Color: Blue\n"
          ]
        }
      ],
      "source": [
        "Name = \"Rahul\"\n",
        "Age = 24\n",
        "Fav_Color = \"Blue\"\n",
        "\n",
        "print(\"Name:\", Name)\n",
        "print( Age)\n",
        "print(\"Fav_Color:\", Fav_Color)\n"
      ]
    },
    {
      "cell_type": "markdown",
      "source": [
        "#Data Type Variable"
      ],
      "metadata": {
        "id": "vECyefUJqnUZ"
      }
    },
    {
      "cell_type": "code",
      "source": [
        "is_student = True\n",
        "Employed = False\n",
        "Institution = None\n",
        "\n",
        "print(type(Name))\n",
        "print(type(Age))\n",
        "print(type(Fav_Color))\n",
        "print(type(is_student))\n",
        "print(type(Employed))\n",
        "print(type(Institution))\n"
      ],
      "metadata": {
        "colab": {
          "base_uri": "https://localhost:8080/"
        },
        "id": "dhurL5qQhm4j",
        "outputId": "44b85fe3-b786-4cfa-f3c1-fe8d615ef34e"
      },
      "execution_count": 8,
      "outputs": [
        {
          "output_type": "stream",
          "name": "stdout",
          "text": [
            "<class 'str'>\n",
            "<class 'int'>\n",
            "<class 'str'>\n",
            "<class 'bool'>\n",
            "<class 'bool'>\n",
            "<class 'NoneType'>\n"
          ]
        }
      ]
    },
    {
      "cell_type": "markdown",
      "source": [
        "# Rectangle area and perimeter\n"
      ],
      "metadata": {
        "id": "51YA5s_IrX0J"
      }
    },
    {
      "cell_type": "code",
      "source": [
        "Length = 7\n",
        "Width = 5\n",
        "\n",
        "Area = Length * Width\n",
        "Perimeter = 2 * (Length + Width)\n",
        "\n",
        "print (\"Area:\", Area)\n",
        "print (\"Perimeter:\", Perimeter)"
      ],
      "metadata": {
        "colab": {
          "base_uri": "https://localhost:8080/"
        },
        "id": "fB3S5WGHrirW",
        "outputId": "d3f07518-36f8-42dc-efd7-ae8f735dc539"
      },
      "execution_count": 10,
      "outputs": [
        {
          "output_type": "stream",
          "name": "stdout",
          "text": [
            "Area: 35\n",
            "Perimeter: 24\n"
          ]
        }
      ]
    },
    {
      "cell_type": "markdown",
      "source": [
        "# List Creation\n"
      ],
      "metadata": {
        "id": "yparLOu8sXbj"
      }
    },
    {
      "cell_type": "code",
      "source": [
        "BD_Foods = [\"HilsaFish\", \"Biriyani\", \"Bhat\", \"Sabji\", \"Dal\"]\n",
        "print(BD_Foods[0])\n",
        "print(BD_Foods[4])\n",
        "\n",
        "print(BD_Foods[-1])\n",
        "print(BD_Foods[-5])\n",
        "\n",
        "# Slicing\n",
        "print(BD_Foods[0:2])\n",
        "print(BD_Foods[2:5])\n",
        "\n",
        "#List Changing\n",
        "BD_Foods[1] = \"Fish\"\n",
        "print(BD_Foods)"
      ],
      "metadata": {
        "colab": {
          "base_uri": "https://localhost:8080/"
        },
        "id": "iQ993hCjsfDO",
        "outputId": "e448d78a-35c4-43b8-d8dc-229ce4994c8b"
      },
      "execution_count": 27,
      "outputs": [
        {
          "output_type": "stream",
          "name": "stdout",
          "text": [
            "HilsaFish\n",
            "Dal\n",
            "Dal\n",
            "HilsaFish\n",
            "['HilsaFish', 'Biriyani']\n",
            "['Bhat', 'Sabji', 'Dal']\n",
            "['HilsaFish', 'Fish', 'Bhat', 'Sabji', 'Dal']\n"
          ]
        }
      ]
    },
    {
      "cell_type": "markdown",
      "source": [
        "# Number List add, remove and sort\n"
      ],
      "metadata": {
        "id": "so8eZ806vk32"
      }
    },
    {
      "cell_type": "code",
      "source": [
        "List_of_Numbers = [2, 3, 4, 5, 6]\n",
        "print(List_of_Numbers)\n",
        "List_of_Numbers.append(1)\n",
        "\n",
        "print(List_of_Numbers)\n",
        "\n",
        "List_of_Numbers.insert(2,9)\n",
        "print(List_of_Numbers)\n",
        "\n",
        "List_of_Numbers.remove(9)\n",
        "print(List_of_Numbers)\n",
        "\n",
        "popped= List_of_Numbers.pop()\n",
        "print(popped)\n",
        "print(List_of_Numbers)\n",
        "\n",
        "List_of_Numbers.sort()\n",
        "print(List_of_Numbers)\n",
        "\n",
        "List_of_Numbers.reverse()\n",
        "print(List_of_Numbers)\n"
      ],
      "metadata": {
        "colab": {
          "base_uri": "https://localhost:8080/"
        },
        "id": "bZuw-TB_vs1p",
        "outputId": "ee83d2e3-5cb1-419b-8060-9b76f4af6eae"
      },
      "execution_count": 48,
      "outputs": [
        {
          "output_type": "stream",
          "name": "stdout",
          "text": [
            "[2, 3, 4, 5, 6]\n",
            "[2, 3, 4, 5, 6, 1]\n",
            "[2, 3, 9, 4, 5, 6, 1]\n",
            "[2, 3, 4, 5, 6, 1]\n",
            "1\n",
            "[2, 3, 4, 5, 6]\n",
            "[2, 3, 4, 5, 6]\n",
            "[6, 5, 4, 3, 2]\n"
          ]
        }
      ]
    },
    {
      "cell_type": "markdown",
      "source": [
        "# Create Dictionary Variable"
      ],
      "metadata": {
        "id": "2MRb5Yi5dRS6"
      }
    },
    {
      "cell_type": "code",
      "source": [
        "Myself = {\"name\": \"Partho\",\n",
        "          \"age\": 24,\n",
        "          \"fav_Color\": \"Blue\",\n",
        "          \"university\": \"EDU\",\n",
        "          \"courses\": [\"Machine Learning\", \"Artificial Intelligence\", \"Image Processing\"] }\n",
        "\n",
        "#Accessing the values using keys\n",
        "print(Myself[\"name\"])\n",
        "print(Myself[\"courses\"][2])\n",
        "\n",
        "#Adding\n",
        "Myself[\"phone\"] = \"01812233654\"\n",
        "Myself[\"age\"] = 25\n",
        "\n",
        "print(Myself['age'])"
      ],
      "metadata": {
        "colab": {
          "base_uri": "https://localhost:8080/"
        },
        "id": "BmCDU7mXdZoR",
        "outputId": "66d846ff-3b47-465d-faad-7966a4267ecc"
      },
      "execution_count": 34,
      "outputs": [
        {
          "output_type": "stream",
          "name": "stdout",
          "text": [
            "Partho\n",
            "Image Processing\n",
            "25\n"
          ]
        }
      ]
    },
    {
      "cell_type": "markdown",
      "source": [
        "#  Create Tuple"
      ],
      "metadata": {
        "id": "q_aN1WTx6OcJ"
      }
    },
    {
      "cell_type": "code",
      "source": [
        "Latitude_BD_Famous_Places = (23.7116, 22.6539, 22.8411, 24.3636)\n",
        "Longtitude_BD_Famous_Places = (90.3934, 91.7832, 89.5403, 88.6008)\n",
        "\n",
        "print(\"The Latitude of Dhaka, Chattogram, Khulna & Rajshahi: \", Latitude_BD_Famous_Places)\n",
        "print(\"The Longtitude of Dhaka, Chattogram, Khulna & Rajshahi:\",Longtitude_BD_Famous_Places)\n",
        "\n",
        "print(\"The Latitude of Dhaka: \", Latitude_BD_Famous_Places[0])\n",
        "print(\"The Longtitude of Dhaka: \", Longtitude_BD_Famous_Places[0])\n",
        "\n",
        "print(len(Latitude_BD_Famous_Places))\n",
        "print(len(Longtitude_BD_Famous_Places))v"
      ],
      "metadata": {
        "colab": {
          "base_uri": "https://localhost:8080/"
        },
        "id": "DngyNl_i6Woh",
        "outputId": "6d02ca8e-3f47-4594-a104-8c819402572c"
      },
      "execution_count": 6,
      "outputs": [
        {
          "output_type": "stream",
          "name": "stdout",
          "text": [
            "The Latitude of Dhaka, Chattogram, Khulna & Rajshahi:  (23.7116, 22.6539, 22.8411, 24.3636)\n",
            "The Longtitude of Dhaka, Chattogram, Khulna & Rajshahi: (90.3934, 91.7832, 89.5403, 88.6008)\n",
            "The Latitude of Dhaka:  23.7116\n",
            "The Longtitude of Dhaka:  90.3934\n",
            "4\n",
            "4\n"
          ]
        }
      ]
    },
    {
      "cell_type": "markdown",
      "source": [
        "# Sets\n"
      ],
      "metadata": {
        "id": "mqD3qK89-l1G"
      }
    },
    {
      "cell_type": "code",
      "source": [
        "Color_Set1 = {\"Green\", \"Blue\", \"Golden\", \"Blue\"}\n",
        "Color_Set2 = {\"Red\", \"Maroon\", \"Sky_Blue\", \"Blue\"}\n",
        "\n",
        "print(Color_Set1)\n",
        "\n",
        "#Color_Set1.add(\"Yellow\")\n",
        "#Color_Set1.update([\"Peach\"],[\"Lemon Green\"])\n",
        "\n",
        "#print(Color_Set1)\n",
        "\n",
        "#Color_Set1.remove(\"Peach\")\n",
        "#Color_Set1.discard(\"Blue\")\n",
        "#print(Color_Set1)\n",
        "\n",
        "All_Colors = Color_Set1.union(Color_Set2)\n",
        "print(All_Colors)\n",
        "\n",
        "All_Colors = Color_Set1|Color_Set2\n",
        "print(All_Colors)\n",
        "\n",
        "\n",
        "All_Colors = Color_Set1.intersection(Color_Set2)\n",
        "print(All_Colors)\n",
        "\n",
        "All_Colors = Color_Set1 & Color_Set2\n",
        "print(All_Colors)\n",
        "\n"
      ],
      "metadata": {
        "colab": {
          "base_uri": "https://localhost:8080/"
        },
        "id": "dpntryi3-sfW",
        "outputId": "80f88a53-96f2-4196-d4b0-a458020915de"
      },
      "execution_count": 16,
      "outputs": [
        {
          "output_type": "stream",
          "name": "stdout",
          "text": [
            "{'Golden', 'Green', 'Blue'}\n",
            "{'Maroon', 'Golden', 'Sky_Blue', 'Blue', 'Red', 'Green'}\n",
            "{'Maroon', 'Golden', 'Sky_Blue', 'Blue', 'Red', 'Green'}\n",
            "{'Blue'}\n",
            "{'Blue'}\n"
          ]
        }
      ]
    },
    {
      "cell_type": "markdown",
      "source": [
        "# If-else to check number is postive, negative or zero as number\n"
      ],
      "metadata": {
        "id": "nkcRJPI5CD-2"
      }
    },
    {
      "cell_type": "code",
      "source": [
        "Number = float(input(\"Enter the Number: \"))\n",
        "\n",
        "if Number > 0:\n",
        "  print(\"The Number is Positive\")\n",
        "\n",
        "elif Number < 0:\n",
        "  print(\"The Number is Negative\")\n",
        "\n",
        "else:\n",
        "  print(\"The Number is Zero\")\n",
        "\n"
      ],
      "metadata": {
        "colab": {
          "base_uri": "https://localhost:8080/"
        },
        "id": "yYpskoMtCXHj",
        "outputId": "778b33e0-f538-4801-b404-e089464d0a3b"
      },
      "execution_count": 34,
      "outputs": [
        {
          "output_type": "stream",
          "name": "stdout",
          "text": [
            "Enter the Number: 20\n",
            "The Number is Positive\n"
          ]
        }
      ]
    },
    {
      "cell_type": "markdown",
      "source": [
        "# Nested if-else"
      ],
      "metadata": {
        "id": "VZKc2k5kGoBA"
      }
    },
    {
      "cell_type": "code",
      "source": [
        "Age = int(input(\"Enter the Age: \"))\n",
        "student_input = (input(\"Are you a student? (yes/no): \"))\n",
        "\n",
        "if student_input.lower() == \"true\":\n",
        "  is_student = True\n",
        "else:\n",
        "  is_student = False\n",
        "\n",
        "if Age <= 25:\n",
        "  if is_student:\n",
        "    print(\"Will get a discount as a Student\")\n",
        "  else:\n",
        "    print(\"Will not get a discount as a Student\")\n",
        "\n",
        "if Age >= 60:\n",
        "  print(\"Will get a discount as a Senior Citizen\")\n",
        "else:\n",
        "  print(\"Will not get a discount as a Senior Citizen\")"
      ],
      "metadata": {
        "colab": {
          "base_uri": "https://localhost:8080/"
        },
        "id": "PLRfdShZkObG",
        "outputId": "b927eb1e-9b29-4c73-cd27-ece0e88d043e"
      },
      "execution_count": 73,
      "outputs": [
        {
          "output_type": "stream",
          "name": "stdout",
          "text": [
            "Enter the Age: 20\n",
            "Are you a student? (yes/no): False\n",
            "Will not get a discount as a Student\n",
            "Will not get a discount as a Senior Citizen\n"
          ]
        }
      ]
    }
  ]
}