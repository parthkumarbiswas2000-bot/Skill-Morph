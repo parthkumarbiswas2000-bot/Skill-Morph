{
  "nbformat": 4,
  "nbformat_minor": 0,
  "metadata": {
    "colab": {
      "provenance": [],
      "toc_visible": true,
      "authorship_tag": "ABX9TyMt7IkbRaLyDnL91+2CHcKZ",
      "include_colab_link": true
    },
    "kernelspec": {
      "name": "python3",
      "display_name": "Python 3"
    },
    "language_info": {
      "name": "python"
    }
  },
  "cells": [
    {
      "cell_type": "markdown",
      "metadata": {
        "id": "view-in-github",
        "colab_type": "text"
      },
      "source": [
        "<a href=\"https://colab.research.google.com/github/parthkumarbiswas2000-bot/Skill-Morph/blob/Skill_Morph/Introduction(Skill_Morph).ipynb\" target=\"_parent\"><img src=\"https://colab.research.google.com/assets/colab-badge.svg\" alt=\"Open In Colab\"/></a>"
      ]
    },
    {
      "cell_type": "code",
      "execution_count": null,
      "metadata": {
        "colab": {
          "base_uri": "https://localhost:8080/"
        },
        "id": "mwIJUjd7RB_y",
        "outputId": "42d5c138-d2c5-4bba-b048-39819f209b82"
      },
      "outputs": [
        {
          "output_type": "stream",
          "name": "stdout",
          "text": [
            "Welcome To Skill Morph!!\n"
          ]
        }
      ],
      "source": [
        "print(\"Welcome To Skill Morph!!\")"
      ]
    },
    {
      "cell_type": "code",
      "source": [
        "24+25\n"
      ],
      "metadata": {
        "colab": {
          "base_uri": "https://localhost:8080/"
        },
        "id": "IERt0GE8Rixy",
        "outputId": "2ad382a4-7ef1-4b21-c2e6-8d6244ed9654"
      },
      "execution_count": null,
      "outputs": [
        {
          "output_type": "execute_result",
          "data": {
            "text/plain": [
              "49"
            ]
          },
          "metadata": {},
          "execution_count": 4
        }
      ]
    },
    {
      "cell_type": "markdown",
      "source": [
        "# **Chapter 1**"
      ],
      "metadata": {
        "id": "o7A4_05lSL9w"
      }
    },
    {
      "cell_type": "markdown",
      "source": [
        "### **Sub Chapter**"
      ],
      "metadata": {
        "id": "OBekHgqBSZqJ"
      }
    }
  ]
}